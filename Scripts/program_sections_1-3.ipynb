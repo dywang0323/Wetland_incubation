{
 "cells": [
  {
   "cell_type": "markdown",
   "id": "fb886ba0-d22b-4047-b19c-b5f480cb5734",
   "metadata": {},
   "source": [
    "## Thise section contains first 3 parts of selected code"
   ]
  },
  {
   "cell_type": "code",
   "execution_count": null,
   "id": "9414a5ca-43f3-4ea4-bea7-1f642bffc547",
   "metadata": {},
   "outputs": [],
   "source": [
    "import numpy as np\n",
    "from math import log"
   ]
  },
  {
   "cell_type": "markdown",
   "id": "a2b4ffac-4e3f-43de-b607-93ad55c38ee3",
   "metadata": {},
   "source": [
    "### Part 1"
   ]
  },
  {
   "cell_type": "code",
   "execution_count": null,
   "id": "b26383ff-af86-46b0-8842-f2f204e32795",
   "metadata": {},
   "outputs": [],
   "source": [
    "# OXIGEN INHIBITION\n",
    "# OXYI=1.0-1.0/(1.0+EXP(1.0*(-COXYS(L,NY,NX)+2.5)))\n",
    "\n",
    "import math\n",
    "import numpy as np\n",
    "\n",
    "OXYI = 1.0 - 1.0 / (1.0 + np.exp(1.0 * (-COXYS[L, NY, NX] + 2.5)))\n"
   ]
  },
  {
   "cell_type": "markdown",
   "id": "5e4fe0ac-7323-44b8-a210-a85f97f436b6",
   "metadata": {},
   "source": [
    "### Part 2-1"
   ]
  },
  {
   "cell_type": "code",
   "execution_count": null,
   "id": "bc4dd230-862c-45ae-af85-7a168a77855e",
   "metadata": {},
   "outputs": [],
   "source": [
    "# C     O2-UNCONSTRAINED RESPIRATION RATES BY HETEROTROPHIC AEROBES\n",
    "# C     'RGO*Z'FROM SPECIFIC RESPIRATION RATE, ACTIVE BIOMASS, DOC OR\n",
    "# C     ACETATE CONCENTRATION,MICROBIAL C:N:P FACTOR, AND TEMPERATURE\n",
    "# C     FOLLOWED BY POTENTIAL RESPIRATION RATES 'RGO*P' WITH UNLIMITED\n",
    "# C     SUBSTRATE USED FOR MICROBIAL COMPETITION FACTOR\n",
    "# C\n",
    "# C     COQC,COQA=DOC,DOA concentration\n",
    "# C     OQKM,OQKA=Km for DOC,DOA uptake by heterotrophs\n",
    "# C     FOCA,FOAA=DOC,DOA vs DOC+DOA\n",
    "# C     FCNP=N,P limitation\n",
    "# C     VMXO=aerobic bacteria specific oxidation rates \n",
    "# C     WFNG=water stress effect\n",
    "# C     OMA=active bacterial biomass\n",
    "# C     TFNX=temp stress effect\n",
    "# C     FOQC,FOQA=OQC,OQA substrate limitation\n",
    "# C     OQC,OQA=DOC,DOA mass\n",
    "# C     RGOCP,RGOAP,RGOMP=O2-unlimited respiration of DOC, DOA, DOC+DOA\n",
    "# C     FGOCP,FGOAP=fraction of RGOMP that oxidizes DOC,DOA\n",
    "# C     XNFH=time step from wthr.f\n",
    "FSBSTC = COQC[K, L, NY, NX] / (COQC[K, L, NY, NX] + OQKM)\n",
    "FSBSTA = COQA[K, L, NY, NX] / (COQA[K, L, NY, NX] + OQKA)\n",
    "FSBST = FOCA[K] * FSBSTC + FOAA[K] * FSBSTA\n",
    "RGOCY = max(0.0, FCNP[N, K] * VMXO * WFNG * OMA[N, K]) * XNFH\n",
    "RGOCZ = RGOCY * FSBSTC * FOCA[K] * TFNX\n",
    "RGOAZ = RGOCY * FSBSTA * FOAA[K] * TFNX\n",
    "# new\n",
    "RGOLZ = RGOCY * FSBSTL * FOLA[K] * TFNX\n",
    "DETAL_COQA = 0.33 * RGOCZ\n",
    "DELTA_CO3 = 0.33 * RGOCZ\n",
    "DETAL_COQL = 0.33 * RGOCZ\n",
    "\n",
    "\n",
    "RGOCX = max(0.0, OQC[K, L, NY, NX] * FOQC * EO2Q * XNFH)\n",
    "RGOAX = max(0.0, OQA[K, L, NY, NX] * FOQA * EO2A * XNFH)\n",
    "RGOCP = min(RGOCX, RGOCZ)\n",
    "RGOAP = min(RGOAX, RGOAZ)\n",
    "RGOMP = RGOCP + RGOAP\n",
    "\n",
    "\n",
    "# if RGOMP > ZEROS[NY, NX]:\n",
    "if RGOMP > 0.0:\n",
    "    FGOCP = RGOCP / RGOMP\n",
    "    FGOAP = RGOAP / RGOMP\n",
    "else:\n",
    "    FGOCP = 1.0\n",
    "    FGOAP = 0.0"
   ]
  },
  {
   "cell_type": "markdown",
   "id": "17f39005-a3a8-4d9d-9ab6-b3d4657d8dfc",
   "metadata": {},
   "source": [
    "### Part 2-2"
   ]
  },
  {
   "cell_type": "code",
   "execution_count": null,
   "id": "5df3916b-ab7a-4f68-aa6e-98088092ab61",
   "metadata": {},
   "outputs": [],
   "source": [
    "# C     ENERGY YIELD AND O2 DEMAND FROM DOC AND ACETATE OXIDATION\n",
    "# C     BY HETEROTROPHIC AEROBES\n",
    "# C\n",
    "# C     ECHZ=growth respiration efficiency\n",
    "# C     EO2Q,EO2A=growth respiration efficiency from O2,DOC reduction\n",
    "# C     FGOCP,FGOAP=fraction of RGOMP that oxidizes DOC,DOA\n",
    "# C     ROXYM,ROXYP,ROXYS=O2 demand from DOC oxidation\n",
    "# C        unconstrained,constained by DOC\n",
    "# C     ROQCS,ROQAS=DOC,DOA demand from DOC,DOA oxidation\n",
    "# C     ROQCD=total microbial respiration used to represent \n",
    "# C        microbial activity in decomposition \n",
    "# C\n",
    "# Required inuput:\n",
    "# EO2Q (scalar): growth respiration efficiency from O2\n",
    "# EO2A (scalar): growth respiration efficiency from DOC reduction\n",
    "# FGOCP (scalar): fraction of RGOMP that oxidizes DOC\n",
    "# FGOAP (scalar): fraction of RGOMP that oxidizes DOA\n",
    "# RGOMP (scalar): O2-unlimited respiration of DOC + DOA\n",
    "# RGOCZ (scalar): O2-unlimited respiration of DOC\n",
    "# RGOAZ (scalar): O2-unlimited respiration of DOA\n",
    "# RGOCY (scalar): total microbial respiration used to represent microbial activity in decomposition\n",
    "# Indices N, K, L, NY, NX\n",
    "# Intermediate data:\n",
    "# ECHZ (scalar): growth respiration efficiency\n",
    "# ROXYM (2D array): O2 demand from DOC oxidation unconstrained\n",
    "# ROXYP (2D array): O2 demand from DOC oxidation constrained by DOC\n",
    "# ROXYSX (scalar): temporary variable to store the value of ROXYS for given indices\n",
    "# ROQCSX (scalar): temporary variable to store the value of ROQCS for given indices\n",
    "# ROQASX (scalar): temporary variable to store the value of ROQAS for given indices\n",
    "# ROXYS (4D array): O2 demand from DOC oxidation constrained by DOC\n",
    "# ROQCS (4D array): DOC demand from DOC oxidation\n",
    "# ROQAS (4D array): DOA demand from DOA oxidation\n",
    "# ROQCD (2D array): total microbial respiration used to represent microbial activity in decomposition\n",
    "\n",
    "ECHZ=EO2Q*FGOCP+EO2A*FGOAP\n",
    "ROXYM=2.667*RGOMP\n",
    "ROXYP=ROXYM\n",
    "ROXYSX=ROXYS\n",
    "ROQCSX=ROQCS\n",
    "ROQASX=ROQAS\n",
    "ROXYS=ROXYP\n",
    "ROQCS=RGOCZ \n",
    "ROQAS=RGOAZ \n",
    "ROQCD=RGOCY "
   ]
  },
  {
   "cell_type": "markdown",
   "id": "fffc65de-48d0-40b3-9386-6f721e024940",
   "metadata": {},
   "source": [
    "### Part 3"
   ]
  },
  {
   "cell_type": "code",
   "execution_count": null,
   "id": "25d8a2c4-bf62-441e-bbeb-2f7d51c64ff7",
   "metadata": {},
   "outputs": [],
   "source": [
    "# RESPIRATION BY HETEROTROPHIC ANAEROBES:\n",
    "# N=(4)ACETOGENIC FERMENTERS (7) ACETOGENIC N2 FIXERS\n",
    "\n",
    "# ENERGY YIELD FROM FERMENTATION DEPENDS ON H2 AND\n",
    "# ACETATE CONCENTRATION\n",
    "\n",
    "# GH2F=energy yield of acetotrophic methanogenesis per g C\n",
    "# GHAX=H2 effect on energy yield of fermentation\n",
    "# GOAX=acetate effect on energy yield of fermentation\n",
    "# ECHZ=growth respiration efficiency of fermentation\n",
    "\n",
    "\n",
    "# Define input\n",
    "GH2X = 0\n",
    "EO2X = 0\n",
    "ENFX = 0\n",
    "GCHX = 0\n",
    "EOMF = 0\n",
    "EOMN = 0\n",
    "\n",
    "# N=(4)ACETOGENIC FERMENTERS (7) ACETOGENIC N2 FIXERS\n",
    "if N == 4 or N == 7:\n",
    "    GH2F = GH2X / 72.0\n",
    "    GOAX = 8.3143E-03 * TKS[L, NY, NX] * log((max(0, COQA[K, L, NY, NX]) / OAKI)**2)\n",
    "    GOAF = GOAX / 72.0\n",
    "    GHAX = GH2F + GOAF\n",
    "    if N == 4:\n",
    "        ECHZ = max(EO2X, min(1.0, 1.0 / (1.0 + max(0.0, (GCHX - GHAX)) / EOMF)))\n",
    "    else:\n",
    "        ECHZ = max(ENFX, min(1.0, 1.0 / (1.0 + max(0.0, (GCHX - GHAX)) / EOMN)))\n"
   ]
  },
  {
   "cell_type": "code",
   "execution_count": null,
   "id": "3f27be6d-a01b-4ccc-b963-229a2a02283b",
   "metadata": {},
   "outputs": [],
   "source": []
  }
 ],
 "metadata": {
  "kernelspec": {
   "display_name": "Python 3",
   "language": "python",
   "name": "python3"
  },
  "language_info": {
   "codemirror_mode": {
    "name": "ipython",
    "version": 3
   },
   "file_extension": ".py",
   "mimetype": "text/x-python",
   "name": "python",
   "nbconvert_exporter": "python",
   "pygments_lexer": "ipython3",
   "version": "3.8.8"
  }
 },
 "nbformat": 4,
 "nbformat_minor": 5
}
